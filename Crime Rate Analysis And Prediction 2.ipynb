{
 "cells": [
  {
   "cell_type": "code",
   "execution_count": null,
   "id": "66777b1c",
   "metadata": {},
   "outputs": [],
   "source": [
    "import pandas as pd\n",
    "import seaborn as sns\n",
    "import numpy as np\n",
    "import matplotlib.pyplot as plt\n",
    "from sklearn.model_selection import train_test_split\n",
    "from sklearn.linear_model import LinearRegression\n",
    "from sklearn.metrics import r2_score, mean_absolute_error"
   ]
  },
  {
   "cell_type": "code",
   "execution_count": null,
   "id": "bf1c4df1",
   "metadata": {},
   "outputs": [],
   "source": [
    "df = pd.read_csv(r'C:\\Users\\Lenovo\\Downloads\\Crime_Rate_Dataset.csv', encoding='unicode_escape')"
   ]
  },
  {
   "cell_type": "code",
   "execution_count": null,
   "id": "b5076a7e",
   "metadata": {},
   "outputs": [],
   "source": [
    "df.head()"
   ]
  },
  {
   "cell_type": "code",
   "execution_count": null,
   "id": "14277f8d",
   "metadata": {},
   "outputs": [],
   "source": [
    "df.info()"
   ]
  },
  {
   "cell_type": "code",
   "execution_count": null,
   "id": "c916dd87",
   "metadata": {},
   "outputs": [],
   "source": [
    "numeric_df = df.select_dtypes(include=[np.number])\n",
    "\n",
    "plt.figure(figsize=(10,6))\n",
    "sns.heatmap(numeric_df.corr(), annot=True, cmap=\"coolwarm\")\n",
    "plt.title(\"Correlation Heatmap (Numeric Features)\")\n",
    "plt.show()"
   ]
  },
  {
   "cell_type": "code",
   "execution_count": null,
   "id": "baa41272",
   "metadata": {},
   "outputs": [],
   "source": [
    "if \"Year\" in df.columns:\n",
    "    plt.figure(figsize=(8,5))\n",
    "    sns.countplot(x=\"Year\", data=df)\n",
    "    plt.title(\"Crime Trend Over Years\")\n",
    "    plt.show()"
   ]
  },
  {
   "cell_type": "code",
   "execution_count": null,
   "id": "73cd2b07",
   "metadata": {},
   "outputs": [],
   "source": [
    "if \"Crime_Type\" in df.columns:\n",
    "    df[\"Crime_Type\"].value_counts().plot(kind=\"bar\", figsize=(8,5))\n",
    "    plt.title(\"Crime Type Distribution\")\n",
    "    plt.show()"
   ]
  },
  {
   "cell_type": "code",
   "execution_count": null,
   "id": "12c89bdc",
   "metadata": {},
   "outputs": [],
   "source": [
    "target = \"Cases_Reported\"\n",
    "X = df.drop(columns=[target])\n",
    "y = df[target]"
   ]
  },
  {
   "cell_type": "code",
   "execution_count": null,
   "id": "5f45ef51",
   "metadata": {},
   "outputs": [],
   "source": [
    "from sklearn.preprocessing import StandardScaler, LabelEncoder"
   ]
  },
  {
   "cell_type": "code",
   "execution_count": null,
   "id": "482883de",
   "metadata": {},
   "outputs": [],
   "source": [
    "for col in X.select_dtypes(include=['object']).columns:\n",
    "    le = LabelEncoder()\n",
    "    X[col] = le.fit_transform(X[col])"
   ]
  },
  {
   "cell_type": "code",
   "execution_count": null,
   "id": "32b8086a",
   "metadata": {},
   "outputs": [],
   "source": [
    "X_train, X_test, y_train, y_test = train_test_split(X, y, test_size=0.2,)"
   ]
  },
  {
   "cell_type": "code",
   "execution_count": null,
   "id": "788744e0",
   "metadata": {},
   "outputs": [],
   "source": [
    "scaler = StandardScaler()\n",
    "X_train = scaler.fit_transform(X_train)\n",
    "X_test = scaler.transform(X_test)"
   ]
  },
  {
   "cell_type": "code",
   "execution_count": null,
   "id": "85cb810f",
   "metadata": {},
   "outputs": [],
   "source": [
    "model = LinearRegression()\n",
    "model.fit(X_train, y_train)"
   ]
  },
  {
   "cell_type": "code",
   "execution_count": null,
   "id": "4a60696f",
   "metadata": {},
   "outputs": [],
   "source": [
    "y_pred = model.predict(X_test)"
   ]
  },
  {
   "cell_type": "code",
   "execution_count": null,
   "id": "55c0d430",
   "metadata": {},
   "outputs": [],
   "source": [
    "from sklearn.metrics import mean_squared_error, r2_score "
   ]
  },
  {
   "cell_type": "code",
   "execution_count": null,
   "id": "8c3a24fe",
   "metadata": {},
   "outputs": [],
   "source": [
    "mse = mean_squared_error(y_test, y_pred)\n",
    "rmse = np.sqrt(mse)\n",
    "r2 = r2_score(y_test, y_pred)"
   ]
  },
  {
   "cell_type": "code",
   "execution_count": null,
   "id": "8856339d",
   "metadata": {},
   "outputs": [],
   "source": [
    "print(\"Model Performance:\")\n",
    "print(f\"RMSE: {rmse:.2f}\")\n",
    "print(f\"R² Score: {r2:.2f}\")"
   ]
  },
  {
   "cell_type": "code",
   "execution_count": null,
   "id": "10c77c53",
   "metadata": {},
   "outputs": [],
   "source": [
    "def predict_cases(new_data: pd.DataFrame):\n",
    "    \"\"\"Predicts Cases_Reported for new crime data\"\"\"\n",
    "    for col in new_data.select_dtypes(include=['object']).columns:\n",
    "        if col in encoders:\n",
    "            new_data[col] = encoders[col].transform(new_data[col])\n",
    "    new_scaled = scaler.transform(new_data)\n",
    "    prediction = model.predict(new_scaled)\n",
    "    return prediction"
   ]
  },
  {
   "cell_type": "code",
   "execution_count": null,
   "id": "7a832b4d",
   "metadata": {},
   "outputs": [],
   "source": [
    "import joblib"
   ]
  },
  {
   "cell_type": "code",
   "execution_count": null,
   "id": "7eb2a11e",
   "metadata": {},
   "outputs": [],
   "source": [
    "encoders = {}\n",
    "for col in df.select_dtypes(include=['object']).columns:\n",
    "    le = LabelEncoder()\n",
    "    df[col] = le.fit_transform(df[col])\n",
    "    encoders[col] = le\n",
    "scaler = StandardScaler()\n",
    "df_scaled = scaler.fit_transform(df.drop(columns=[\"Cases_Reported\"]))"
   ]
  },
  {
   "cell_type": "code",
   "execution_count": null,
   "id": "c9c2a6a9",
   "metadata": {},
   "outputs": [],
   "source": [
    "joblib.dump(encoders, \"encoders.pkl\")\n",
    "joblib.dump(scaler, \"scaler.pkl\")\n",
    "joblib.dump(model, \"crime_model.pkl\")"
   ]
  },
  {
   "cell_type": "code",
   "execution_count": null,
   "id": "289b08fc",
   "metadata": {},
   "outputs": [],
   "source": [
    "city = input(\"Enter City name: \")\n",
    "crime_type = input(\"Enter Crime Type: \")\n",
    "year = int(input(\"Enter Year: \"))\n",
    "arrests = int(input(\"Enter Arrests: \"))\n",
    "latitude = float(input(\"Enter Latitude: \"))\n",
    "longitude = float(input(\"Enter Longitude: \"))\n",
    "age = int(input(\"Enter Age: \"))\n",
    "gender = input(\"Enter Gender: \")"
   ]
  },
  {
   "cell_type": "code",
   "execution_count": null,
   "id": "49c7ba82",
   "metadata": {},
   "outputs": [],
   "source": [
    "predicted_value = predict_cases(new_data)\n",
    "print(\" Predicted Cases_Reported:\", predicted_value[0])"
   ]
  },
  {
   "cell_type": "code",
   "execution_count": null,
   "id": "0081394c",
   "metadata": {},
   "outputs": [],
   "source": []
  }
 ],
 "metadata": {
  "kernelspec": {
   "display_name": "Python 3 (ipykernel)",
   "language": "python",
   "name": "python3"
  },
  "language_info": {
   "codemirror_mode": {
    "name": "ipython",
    "version": 3
   },
   "file_extension": ".py",
   "mimetype": "text/x-python",
   "name": "python",
   "nbconvert_exporter": "python",
   "pygments_lexer": "ipython3",
   "version": "3.11.5"
  }
 },
 "nbformat": 4,
 "nbformat_minor": 5
}
